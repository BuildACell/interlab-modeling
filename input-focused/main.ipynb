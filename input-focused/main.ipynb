{
 "cells": [
  {
   "cell_type": "code",
   "execution_count": 2,
   "metadata": {},
   "outputs": [],
   "source": [
    "from subsbml import *"
   ]
  },
  {
   "cell_type": "code",
   "execution_count": 3,
   "metadata": {},
   "outputs": [
    {
     "name": "stdout",
     "output_type": "stream",
     "text": [
      "The subsystem from models/IPTG_membrane.xml has multiple compartments\n"
     ]
    },
    {
     "name": "stderr",
     "output_type": "stream",
     "text": [
      "c:\\users\\apand\\appdata\\local\\programs\\python\\python36\\lib\\site-packages\\subsbml-0.1-py3.6.egg\\subsbml\\System.py:454: UserWarning: More than 1 compartments found in the Subsystem model. Check resulting models for consistency.\n",
      "  warnings.warn('More than 1 compartments found in the Subsystem model. Check resulting models for consistency.')\n",
      "c:\\users\\apand\\appdata\\local\\programs\\python\\python36\\lib\\site-packages\\subsbml-0.1-py3.6.egg\\subsbml\\System.py:227: UserWarning: Subsystem SBML model is not the latest. Converting to latest SBML level and version\n",
      "  warnings.warn('Subsystem SBML model is not the latest. Converting to latest SBML level and version')\n",
      "c:\\users\\apand\\appdata\\local\\programs\\python\\python36\\lib\\site-packages\\subsbml-0.1-py3.6.egg\\subsbml\\Subsystem.py:611: UserWarning: Not all of the Subsystems being combined are in the same Compartment\n",
      "  warnings.warn('Not all of the Subsystems being combined are in the same Compartment')\n",
      "c:\\users\\apand\\appdata\\local\\programs\\python\\python36\\lib\\site-packages\\subsbml-0.1-py3.6.egg\\subsbml\\Subsystem.py:1424: UserWarning: UnitDefinition with id per_second does not have name attribute set. To avoid duplicates, use name argument.\n",
      "  warnings.warn('UnitDefinition with id {0} does not have name attribute set. To avoid duplicates, use name argument.'.format(unit_definition.getId()))\n",
      "c:\\users\\apand\\appdata\\local\\programs\\python\\python36\\lib\\site-packages\\subsbml-0.1-py3.6.egg\\subsbml\\Subsystem.py:1424: UserWarning: UnitDefinition with id substance does not have name attribute set. To avoid duplicates, use name argument.\n",
      "  warnings.warn('UnitDefinition with id {0} does not have name attribute set. To avoid duplicates, use name argument.'.format(unit_definition.getId()))\n",
      "c:\\users\\apand\\appdata\\local\\programs\\python\\python36\\lib\\site-packages\\subsbml-0.1-py3.6.egg\\subsbml\\Subsystem.py:1454: UserWarning: UnitDefinition with identifier per_second does not have a name argument. To avoid duplication, use name argument\n",
      "  warnings.warn('UnitDefinition with identifier {0} does not have a name argument. To avoid duplication, use name argument'.format(unit_definition.getId()))\n",
      "c:\\users\\apand\\appdata\\local\\programs\\python\\python36\\lib\\site-packages\\subsbml-0.1-py3.6.egg\\subsbml\\Subsystem.py:1454: UserWarning: UnitDefinition with identifier substance does not have a name argument. To avoid duplication, use name argument\n",
      "  warnings.warn('UnitDefinition with identifier {0} does not have a name argument. To avoid duplication, use name argument'.format(unit_definition.getId()))\n",
      "c:\\users\\apand\\appdata\\local\\programs\\python\\python36\\lib\\site-packages\\subsbml-0.1-py3.6.egg\\subsbml\\Subsystem.py:1424: UserWarning: UnitDefinition with id volume does not have name attribute set. To avoid duplicates, use name argument.\n",
      "  warnings.warn('UnitDefinition with id {0} does not have name attribute set. To avoid duplicates, use name argument.'.format(unit_definition.getId()))\n",
      "c:\\users\\apand\\appdata\\local\\programs\\python\\python36\\lib\\site-packages\\subsbml-0.1-py3.6.egg\\subsbml\\Subsystem.py:1424: UserWarning: UnitDefinition with id area does not have name attribute set. To avoid duplicates, use name argument.\n",
      "  warnings.warn('UnitDefinition with id {0} does not have name attribute set. To avoid duplicates, use name argument.'.format(unit_definition.getId()))\n",
      "c:\\users\\apand\\appdata\\local\\programs\\python\\python36\\lib\\site-packages\\subsbml-0.1-py3.6.egg\\subsbml\\Subsystem.py:1496: UserWarning: Event with id mw747f5e25_3ef2_486f_bbbf_76ebdd78ee16 does not have name attribute set. To avoid duplicates, use name argument.\n",
      "  warnings.warn('Event with id {0} does not have name attribute set. To avoid duplicates, use name argument.'.format(event.getId()))\n",
      "c:\\users\\apand\\appdata\\local\\programs\\python\\python36\\lib\\site-packages\\subsbml-0.1-py3.6.egg\\subsbml\\Subsystem.py:1496: UserWarning: Event with id mw3e3e16a0_acaf_46f8_a626_4588bd2fb6ff does not have name attribute set. To avoid duplicates, use name argument.\n",
      "  warnings.warn('Event with id {0} does not have name attribute set. To avoid duplicates, use name argument.'.format(event.getId()))\n",
      "c:\\users\\apand\\appdata\\local\\programs\\python\\python36\\lib\\site-packages\\subsbml-0.1-py3.6.egg\\subsbml\\Subsystem.py:1093: UserWarning: Removing duplicate species IPTG_2_combined in the same compartment\n",
      "  warnings.warn('Removing duplicate species {0} in the same compartment'.format(newid))\n",
      "c:\\users\\apand\\appdata\\local\\programs\\python\\python36\\lib\\site-packages\\subsbml-0.1-py3.6.egg\\subsbml\\Subsystem.py:1526: UserWarning: Event with identifier mw747f5e25_3ef2_486f_bbbf_76ebdd78ee16 does not have a name argument. To avoid duplication, use name argument\n",
      "  warnings.warn('Event with identifier {0} does not have a name argument. To avoid duplication, use name argument'.format(event.getId()))\n",
      "c:\\users\\apand\\appdata\\local\\programs\\python\\python36\\lib\\site-packages\\subsbml-0.1-py3.6.egg\\subsbml\\Subsystem.py:1526: UserWarning: Event with identifier mw3e3e16a0_acaf_46f8_a626_4588bd2fb6ff does not have a name argument. To avoid duplication, use name argument\n",
      "  warnings.warn('Event with identifier {0} does not have a name argument. To avoid duplication, use name argument'.format(event.getId()))\n",
      "c:\\users\\apand\\appdata\\local\\programs\\python\\python36\\lib\\site-packages\\subsbml-0.1-py3.6.egg\\subsbml\\Subsystem.py:1454: UserWarning: UnitDefinition with identifier volume does not have a name argument. To avoid duplication, use name argument\n",
      "  warnings.warn('UnitDefinition with identifier {0} does not have a name argument. To avoid duplication, use name argument'.format(unit_definition.getId()))\n",
      "c:\\users\\apand\\appdata\\local\\programs\\python\\python36\\lib\\site-packages\\subsbml-0.1-py3.6.egg\\subsbml\\Subsystem.py:1454: UserWarning: UnitDefinition with identifier area does not have a name argument. To avoid duplication, use name argument\n",
      "  warnings.warn('UnitDefinition with identifier {0} does not have a name argument. To avoid duplication, use name argument'.format(unit_definition.getId()))\n"
     ]
    }
   ],
   "source": [
    "cell = System('cell') # The vesicle with logic gate\n",
    "\n",
    "IPTG_membrane = createSubsystem('models/IPTG_membrane.xml')\n",
    "\n",
    "gate = cell.createSubsystem('models/logic_gate.xml') # Creates logic gate subsystem in internal of the synthetic cell\n",
    "\n",
    "# Create subsystems for all inputs\n",
    "input_IPTG = createSubsystem('models/input_IPTG.xml')\n",
    "# input_pressure = createSubsystem('models/input_pressure.xml') \n",
    "# input_pH = createSubsystem('models/input_pH.xml')\n",
    "\n",
    "# For physical inputs - write ODEs as rate rules in SBML. \n",
    "\n",
    "all_inputs = createNewSubsystem()\n",
    "all_inputs.combineSubsystems([input_IPTG])\n",
    "# all_inputs.combineSubsystem([input_IPTG, input_pressure, input_pH]) # If there are multliple inputs\n",
    "\n",
    "all_membranes = createNewSubsystem()\n",
    "all_membranes.combineSubsystems([IPTG_membrane])\n",
    "# all_membranes.combineSubsystems([IPTG_membrane, pressure_membrane, pH_membrane])\n",
    "\n",
    "\n",
    "cell.setExternal(all_inputs) # adds the combined inputs model to external of cell \n",
    "cell.setMembrane(all_membranes) # specifies membrane model of cell \n",
    "\n",
    "# Get final combined model\n",
    "cell_model, _ = cell.getModel()\n",
    "libsbml.writeSBML(cell_model, 'models/final_cell_model.xml')\n",
    "# Simulate\n",
    "timepoints = np.linspace(0,100,100)\n",
    "# results, _ = Subsystem(cell_model).simulateBioscrape(0, timepoints)"
   ]
  },
  {
   "cell_type": "code",
   "execution_count": null,
   "metadata": {},
   "outputs": [],
   "source": []
  }
 ],
 "metadata": {
  "kernelspec": {
   "display_name": "Python 3",
   "language": "python",
   "name": "python3"
  },
  "language_info": {
   "codemirror_mode": {
    "name": "ipython",
    "version": 3
   },
   "file_extension": ".py",
   "mimetype": "text/x-python",
   "name": "python",
   "nbconvert_exporter": "python",
   "pygments_lexer": "ipython3",
   "version": "3.6.5"
  }
 },
 "nbformat": 4,
 "nbformat_minor": 2
}
