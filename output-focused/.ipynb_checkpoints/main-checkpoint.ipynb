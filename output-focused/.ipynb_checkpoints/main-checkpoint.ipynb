{
 "cells": [
  {
   "cell_type": "code",
   "execution_count": 2,
   "metadata": {},
   "outputs": [
    {
     "name": "stderr",
     "output_type": "stream",
     "text": [
      "/Users/lianamerk/anaconda3/lib/python3.7/site-packages/subsbml-0.1-py3.7.egg/subsbml/Subsystem.py:18: UserWarning: Package not installed : bioscrape, simulation options with bioscrape will not work.\n",
      "  warnings.warn('Package not installed : bioscrape, simulation options with bioscrape will not work.')\n",
      "/Users/lianamerk/anaconda3/lib/python3.7/site-packages/subsbml-0.1-py3.7.egg/subsbml/utilityFunctions.py:17: UserWarning: Package not installed : bioscrape, simulation options with bioscrape will not work.\n"
     ]
    }
   ],
   "source": [
    "from subsbml import *"
   ]
  },
  {
   "cell_type": "code",
   "execution_count": 5,
   "metadata": {},
   "outputs": [
    {
     "name": "stdout",
     "output_type": "stream",
     "text": [
      "The subsystem from models/aTc_membrane.xml has multiple compartments\n"
     ]
    }
   ],
   "source": [
    "cell1 = System('cell1') # The vesicle with lysis protein\n",
    "\n",
    "external_aTc = createSubsystem('models/aTc_reservoir.xml')\n",
    "membrane1 = createSubsystem('models/aTc_membrane.xml')\n",
    "\n",
    "ss1 = cell1.createSubsystem('models/lysis_ss.xml') # Creates ss1 in internal of cell 1\n",
    "\n",
    "ss1.renameSName('protein_GFP','protein_X174')\n",
    "ss1.renameSId('protein_GFP', 'protein_X174')\n",
    "\n",
    "\n",
    "cell1.setExternal(external_aTc) # adds aTc external system to external of cell 1\n",
    "cell1.setMembrane(membrane1) # specifies membrane model of cell 1\n",
    "\n",
    "# Simulate cell 1\n",
    "cell1_model, _ = cell1.getModel()\n",
    "timepoints = np.linspace(0,100,100)\n",
    "#results_c1, _ = Subsystem(cell1_model).simulateBioscrape(0, timepoints)"
   ]
  },
  {
   "cell_type": "code",
   "execution_count": 11,
   "metadata": {},
   "outputs": [
    {
     "data": {
      "text/plain": [
       "1"
      ]
     },
     "execution_count": 11,
     "metadata": {},
     "output_type": "execute_result"
    }
   ],
   "source": [
    "libsbml.writeSBML(cell1_model, 'cell1_model.xml')"
   ]
  },
  {
   "cell_type": "code",
   "execution_count": null,
   "metadata": {},
   "outputs": [],
   "source": [
    "# add bokeh plot of timepoints "
   ]
  },
  {
   "cell_type": "code",
   "execution_count": 7,
   "metadata": {},
   "outputs": [
    {
     "name": "stderr",
     "output_type": "stream",
     "text": [
      "/Users/lianamerk/anaconda3/lib/python3.7/site-packages/subsbml-0.1-py3.7.egg/subsbml/Subsystem.py:1215: UserWarning: Compartment with id external does not have name attribute set. To avoid duplicates, use name argument.\n",
      "  warnings.warn('Compartment with id {0} does not have name attribute set. To avoid duplicates, use name argument.'.format(compartment.getId()))\n",
      "/Users/lianamerk/anaconda3/lib/python3.7/site-packages/subsbml-0.1-py3.7.egg/subsbml/Subsystem.py:1248: UserWarning: Compartment with identifier external does not have a name argument. To avoid duplication, use name argument\n",
      "  warnings.warn('Compartment with identifier {0} does not have a name argument. To avoid duplication, use name argument'.format(compartment.getId()))\n"
     ]
    },
    {
     "data": {
      "text/plain": [
       "<SBMLDocument>"
      ]
     },
     "execution_count": 7,
     "metadata": {},
     "output_type": "execute_result"
    }
   ],
   "source": [
    "# Stop simulation of cell1 and begin simulating final_model. \n",
    "ss1.setCompartments('external')\n",
    "new_external = createNewSubsystem()\n",
    "new_external.combineSubsystems([ss1, external_aTc])"
   ]
  },
  {
   "cell_type": "code",
   "execution_count": 6,
   "metadata": {},
   "outputs": [
    {
     "ename": "SystemExit",
     "evalue": "LibSBML returned a null value trying to retreiving model in createSubsystem.",
     "output_type": "error",
     "traceback": [
      "An exception has occurred, use %tb to see the full traceback.\n",
      "\u001b[0;31mSystemExit\u001b[0m\u001b[0;31m:\u001b[0m LibSBML returned a null value trying to retreiving model in createSubsystem.\n"
     ]
    },
    {
     "name": "stderr",
     "output_type": "stream",
     "text": [
      "/Users/lianamerk/anaconda3/lib/python3.7/site-packages/IPython/core/interactiveshell.py:3327: UserWarning: To exit: use 'exit', 'quit', or Ctrl-D.\n",
      "  warn(\"To exit: use 'exit', 'quit', or Ctrl-D.\", stacklevel=1)\n"
     ]
    }
   ],
   "source": [
    "cell2 = System('cell2') # The vesicle with one half of the logic gate\n",
    "cell3 = System('cell3') # The vesicle with the other half of the logic gate\n",
    "\n",
    "ss2 = cell2.createSubsystem('models/gate1.xml') # Creates gate1 subsystem inside cell2\n",
    "ss3 = cell3.createSubsystem('models/gate2.xml') # Creates gate2 subsystem inside cell3\n",
    "\n",
    "membrane2 = createSubsystem('models/membrane2.xml')\n",
    "membrane3 = createSubsystem('models/membrane3.xml')\n",
    "\n",
    "cell2.setExternal(new_external)\n",
    "cell3.setExternal(new_external)\n",
    "\n",
    "cell2.setMembrane(membrane2)\n",
    "cell3.setMembrane(membrane3)\n",
    "\n",
    "final_model = combineSystems([cell2, cell3])\n",
    "libsbml.writeSBML(final_model, 'models/final_model.xml')\n",
    "\n",
    "# Simulate the final_model\n",
    "simulate_rr(final_model, timepoints)"
   ]
  },
  {
   "cell_type": "code",
   "execution_count": null,
   "metadata": {},
   "outputs": [],
   "source": []
  }
 ],
 "metadata": {
  "kernelspec": {
   "display_name": "Python 3",
   "language": "python",
   "name": "python3"
  },
  "language_info": {
   "codemirror_mode": {
    "name": "ipython",
    "version": 3
   },
   "file_extension": ".py",
   "mimetype": "text/x-python",
   "name": "python",
   "nbconvert_exporter": "python",
   "pygments_lexer": "ipython3",
   "version": "3.7.5"
  }
 },
 "nbformat": 4,
 "nbformat_minor": 2
}
