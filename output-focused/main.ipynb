{
 "cells": [
  {
   "cell_type": "code",
   "execution_count": 9,
   "metadata": {},
   "outputs": [],
   "source": [
    "from subsbml import *"
   ]
  },
  {
   "cell_type": "code",
   "execution_count": 10,
   "metadata": {},
   "outputs": [
    {
     "name": "stdout",
     "output_type": "stream",
     "text": [
      "The subsystem from models/aTc_membrane.xml has multiple compartments\n",
      "Warning! SpeciesaTc_1 not currently used in any rules or reactions.\n",
      "Warning! SpeciesxxcomplexL not currently used in any rules or reactions.\n",
      "Warning! SpeciesxxaTc_complexL not currently used in any rules or reactions."
     ]
    },
    {
     "name": "stderr",
     "output_type": "stream",
     "text": [
      "c:\\users\\apand\\appdata\\local\\programs\\python\\python36\\lib\\site-packages\\subsbml-0.1-py3.6.egg\\subsbml\\System.py:454: UserWarning: More than 1 compartments found in the Subsystem model. Check resulting models for consistency.\n",
      "  warnings.warn('More than 1 compartments found in the Subsystem model. Check resulting models for consistency.')\n",
      "c:\\users\\apand\\appdata\\local\\programs\\python\\python36\\lib\\site-packages\\subsbml-0.1-py3.6.egg\\subsbml\\Subsystem.py:613: UserWarning: Not all of the Subsystems being combined are in the same Compartment\n",
      "  warnings.warn('Not all of the Subsystems being combined are in the same Compartment')\n",
      "c:\\users\\apand\\appdata\\local\\programs\\python\\python36\\lib\\site-packages\\subsbml-0.1-py3.6.egg\\subsbml\\Subsystem.py:1217: UserWarning: Compartment with id cell1 does not have name attribute set. To avoid duplicates, use name argument.\n",
      "  warnings.warn('Compartment with id {0} does not have name attribute set. To avoid duplicates, use name argument.'.format(compartment.getId()))\n",
      "c:\\users\\apand\\appdata\\local\\programs\\python\\python36\\lib\\site-packages\\subsbml-0.1-py3.6.egg\\subsbml\\Subsystem.py:1426: UserWarning: UnitDefinition with id square_metre does not have name attribute set. To avoid duplicates, use name argument.\n",
      "  warnings.warn('UnitDefinition with id {0} does not have name attribute set. To avoid duplicates, use name argument.'.format(unit_definition.getId()))\n",
      "c:\\users\\apand\\appdata\\local\\programs\\python\\python36\\lib\\site-packages\\subsbml-0.1-py3.6.egg\\subsbml\\Subsystem.py:1426: UserWarning: UnitDefinition with id per_second does not have name attribute set. To avoid duplicates, use name argument.\n",
      "  warnings.warn('UnitDefinition with id {0} does not have name attribute set. To avoid duplicates, use name argument.'.format(unit_definition.getId()))\n",
      "c:\\users\\apand\\appdata\\local\\programs\\python\\python36\\lib\\site-packages\\subsbml-0.1-py3.6.egg\\subsbml\\Subsystem.py:1426: UserWarning: UnitDefinition with id substance does not have name attribute set. To avoid duplicates, use name argument.\n",
      "  warnings.warn('UnitDefinition with id {0} does not have name attribute set. To avoid duplicates, use name argument.'.format(unit_definition.getId()))\n",
      "c:\\users\\apand\\appdata\\local\\programs\\python\\python36\\lib\\site-packages\\subsbml-0.1-py3.6.egg\\subsbml\\Subsystem.py:1095: UserWarning: Removing duplicate species aTc_2_combined in the same compartment\n",
      "  warnings.warn('Removing duplicate species {0} in the same compartment'.format(newid))\n",
      "c:\\users\\apand\\appdata\\local\\programs\\python\\python36\\lib\\site-packages\\subsbml-0.1-py3.6.egg\\subsbml\\Subsystem.py:1250: UserWarning: Compartment with identifier cell1 does not have a name argument. To avoid duplication, use name argument\n",
      "  warnings.warn('Compartment with identifier {0} does not have a name argument. To avoid duplication, use name argument'.format(compartment.getId()))\n",
      "c:\\users\\apand\\appdata\\local\\programs\\python\\python36\\lib\\site-packages\\subsbml-0.1-py3.6.egg\\subsbml\\Subsystem.py:1456: UserWarning: UnitDefinition with identifier square_metre does not have a name argument. To avoid duplication, use name argument\n",
      "  warnings.warn('UnitDefinition with identifier {0} does not have a name argument. To avoid duplication, use name argument'.format(unit_definition.getId()))\n",
      "c:\\users\\apand\\appdata\\local\\programs\\python\\python36\\lib\\site-packages\\subsbml-0.1-py3.6.egg\\subsbml\\Subsystem.py:1456: UserWarning: UnitDefinition with identifier per_second does not have a name argument. To avoid duplication, use name argument\n",
      "  warnings.warn('UnitDefinition with identifier {0} does not have a name argument. To avoid duplication, use name argument'.format(unit_definition.getId()))\n",
      "c:\\users\\apand\\appdata\\local\\programs\\python\\python36\\lib\\site-packages\\subsbml-0.1-py3.6.egg\\subsbml\\Subsystem.py:1456: UserWarning: UnitDefinition with identifier substance does not have a name argument. To avoid duplication, use name argument\n",
      "  warnings.warn('UnitDefinition with identifier {0} does not have a name argument. To avoid duplication, use name argument'.format(unit_definition.getId()))\n",
      "c:\\users\\apand\\appdata\\local\\programs\\python\\python36\\lib\\site-packages\\subsbml-0.1-py3.6.egg\\subsbml\\Subsystem.py:1982: UserWarning: Warning! parameter kb does not show up in any currently defined reactions or rules.\n",
      "  m = bioscrape.types.read_model_from_sbml(filename)\n",
      "c:\\users\\apand\\appdata\\local\\programs\\python\\python36\\lib\\site-packages\\subsbml-0.1-py3.6.egg\\subsbml\\Subsystem.py:1982: UserWarning: Warning! parameter kd does not show up in any currently defined reactions or rules.\n",
      "  m = bioscrape.types.read_model_from_sbml(filename)\n"
     ]
    },
    {
     "name": "stdout",
     "output_type": "stream",
     "text": [
      "\n",
      "Warning! SpeciesaTc_2_combined not currently used in any rules or reactions.\n"
     ]
    }
   ],
   "source": [
    "cell1 = System('cell1') # The vesicle with lysis protein\n",
    "\n",
    "external_aTc = createSubsystem('models/aTc_reservoir.xml')\n",
    "membrane1 = createSubsystem('models/aTc_membrane.xml')\n",
    "\n",
    "ss1 = cell1.createSubsystem('models/lysis_ss.xml') # Creates ss1 in internal of cell 1\n",
    "\n",
    "ss1.renameSName('protein_GFP','protein_X174')\n",
    "ss1.renameSId('protein_GFP', 'protein_X174')\n",
    "\n",
    "\n",
    "cell1.setExternal(external_aTc) # adds aTc external system to external of cell 1\n",
    "cell1.setMembrane(membrane1) # specifies membrane model of cell 1\n",
    "\n",
    "# Simulate cell 1\n",
    "cell1_model, _ = cell1.getModel()\n",
    "timepoints = np.linspace(0,100,100)\n",
    "results_c1, _ = Subsystem(cell1_model).simulateBioscrape(0, timepoints)"
   ]
  },
  {
   "cell_type": "code",
   "execution_count": 7,
   "metadata": {},
   "outputs": [
    {
     "data": {
      "text/plain": [
       "numpy.ndarray"
      ]
     },
     "execution_count": 7,
     "metadata": {},
     "output_type": "execute_result"
    }
   ],
   "source": [
    "type(results_c1)"
   ]
  },
  {
   "cell_type": "code",
   "execution_count": 12,
   "metadata": {},
   "outputs": [
    {
     "name": "stderr",
     "output_type": "stream",
     "text": [
      "c:\\users\\apand\\appdata\\local\\programs\\python\\python36\\lib\\site-packages\\subsbml-0.1-py3.6.egg\\subsbml\\Subsystem.py:613: UserWarning: Not all of the Subsystems being combined are in the same Compartment\n",
      "  warnings.warn('Not all of the Subsystems being combined are in the same Compartment')\n",
      "c:\\users\\apand\\appdata\\local\\programs\\python\\python36\\lib\\site-packages\\subsbml-0.1-py3.6.egg\\subsbml\\Subsystem.py:1217: UserWarning: Compartment with id external_1 does not have name attribute set. To avoid duplicates, use name argument.\n",
      "  warnings.warn('Compartment with id {0} does not have name attribute set. To avoid duplicates, use name argument.'.format(compartment.getId()))\n",
      "c:\\users\\apand\\appdata\\local\\programs\\python\\python36\\lib\\site-packages\\subsbml-0.1-py3.6.egg\\subsbml\\Subsystem.py:1426: UserWarning: UnitDefinition with id square_metre does not have name attribute set. To avoid duplicates, use name argument.\n",
      "  warnings.warn('UnitDefinition with id {0} does not have name attribute set. To avoid duplicates, use name argument.'.format(unit_definition.getId()))\n",
      "c:\\users\\apand\\appdata\\local\\programs\\python\\python36\\lib\\site-packages\\subsbml-0.1-py3.6.egg\\subsbml\\Subsystem.py:1426: UserWarning: UnitDefinition with id per_second does not have name attribute set. To avoid duplicates, use name argument.\n",
      "  warnings.warn('UnitDefinition with id {0} does not have name attribute set. To avoid duplicates, use name argument.'.format(unit_definition.getId()))\n",
      "c:\\users\\apand\\appdata\\local\\programs\\python\\python36\\lib\\site-packages\\subsbml-0.1-py3.6.egg\\subsbml\\Subsystem.py:1426: UserWarning: UnitDefinition with id substance does not have name attribute set. To avoid duplicates, use name argument.\n",
      "  warnings.warn('UnitDefinition with id {0} does not have name attribute set. To avoid duplicates, use name argument.'.format(unit_definition.getId()))\n",
      "c:\\users\\apand\\appdata\\local\\programs\\python\\python36\\lib\\site-packages\\subsbml-0.1-py3.6.egg\\subsbml\\Subsystem.py:1250: UserWarning: Compartment with identifier external_1 does not have a name argument. To avoid duplication, use name argument\n",
      "  warnings.warn('Compartment with identifier {0} does not have a name argument. To avoid duplication, use name argument'.format(compartment.getId()))\n",
      "c:\\users\\apand\\appdata\\local\\programs\\python\\python36\\lib\\site-packages\\subsbml-0.1-py3.6.egg\\subsbml\\Subsystem.py:1456: UserWarning: UnitDefinition with identifier square_metre does not have a name argument. To avoid duplication, use name argument\n",
      "  warnings.warn('UnitDefinition with identifier {0} does not have a name argument. To avoid duplication, use name argument'.format(unit_definition.getId()))\n",
      "c:\\users\\apand\\appdata\\local\\programs\\python\\python36\\lib\\site-packages\\subsbml-0.1-py3.6.egg\\subsbml\\Subsystem.py:1456: UserWarning: UnitDefinition with identifier per_second does not have a name argument. To avoid duplication, use name argument\n",
      "  warnings.warn('UnitDefinition with identifier {0} does not have a name argument. To avoid duplication, use name argument'.format(unit_definition.getId()))\n",
      "c:\\users\\apand\\appdata\\local\\programs\\python\\python36\\lib\\site-packages\\subsbml-0.1-py3.6.egg\\subsbml\\Subsystem.py:1456: UserWarning: UnitDefinition with identifier substance does not have a name argument. To avoid duplication, use name argument\n",
      "  warnings.warn('UnitDefinition with identifier {0} does not have a name argument. To avoid duplication, use name argument'.format(unit_definition.getId()))\n"
     ]
    },
    {
     "data": {
      "text/plain": [
       "<libsbml.SBMLDocument; proxy of <Swig Object of type 'SBMLDocument *' at 0x0000023936E59A50> >"
      ]
     },
     "execution_count": 12,
     "metadata": {},
     "output_type": "execute_result"
    }
   ],
   "source": [
    "# Stop simulation of cell1 and begin simulating final_model. \n",
    "ss1.setCompartments('external')\n",
    "new_external = createNewSubsystem()\n",
    "new_external.combineSubsystems([ss1, external_aTc])"
   ]
  },
  {
   "cell_type": "code",
   "execution_count": null,
   "metadata": {},
   "outputs": [],
   "source": [
    "cell2 = System('cell2') # The vesicle with one half of the logic gate\n",
    "cell3 = System('cell3') # The vesicle with the other half of the logic gate\n",
    "\n",
    "ss2 = cell2.createSubsystem('models/gate1.xml') # Creates gate1 subsystem inside cell2\n",
    "ss3 = cell3.createSubsystem('models/gate2.xml') # Creates gate2 subsystem inside cell3\n",
    "\n",
    "membrane2 = createSubsystem('models/membrane2.xml')\n",
    "membrane3 = createSubsystem('models/membrane3.xml')\n",
    "\n",
    "cell2.setExternal(new_external)\n",
    "cell3.setExternal(new_external)\n",
    "\n",
    "cell2.setMembrane(membrane2)\n",
    "cell3.setMembrane(membrane3)\n",
    "\n",
    "final_model = combineSystems([cell2, cell3])\n",
    "libsbml.writeSBML(final_model, 'models/final_model.xml')\n",
    "\n",
    "# Simulate the final_model\n",
    "simulate_rr(final_model, timepoints)"
   ]
  },
  {
   "cell_type": "code",
   "execution_count": 4,
   "metadata": {},
   "outputs": [
    {
     "data": {
      "text/plain": [
       "<libsbml.SBMLDocument; proxy of <Swig Object of type 'SBMLDocument *' at 0x0000023936D30DE0> >"
      ]
     },
     "execution_count": 4,
     "metadata": {},
     "output_type": "execute_result"
    }
   ],
   "source": [
    "test_ss = createSubsystem('models/lysis_ss.xml')\n",
    "test_ss.renameSName('protein_GFP','protein_X174')\n",
    "test_ss.renameSId('protein_GFP', 'protein_X174')"
   ]
  }
 ],
 "metadata": {
  "kernelspec": {
   "display_name": "Python 3",
   "language": "python",
   "name": "python3"
  },
  "language_info": {
   "codemirror_mode": {
    "name": "ipython",
    "version": 3
   },
   "file_extension": ".py",
   "mimetype": "text/x-python",
   "name": "python",
   "nbconvert_exporter": "python",
   "pygments_lexer": "ipython3",
   "version": "3.6.5"
  }
 },
 "nbformat": 4,
 "nbformat_minor": 2
}
