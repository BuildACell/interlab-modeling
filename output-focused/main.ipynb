{
 "cells": [
  {
   "cell_type": "code",
   "execution_count": 1,
   "metadata": {},
   "outputs": [
    {
     "name": "stderr",
     "output_type": "stream",
     "text": [
      "C:\\Users\\apand\\Anaconda3\\lib\\site-packages\\subsbml-0.1-py3.7.egg\\subsbml\\Subsystem.py:18: UserWarning: Package not installed : bioscrape, simulation options with bioscrape will not work.\n",
      "C:\\Users\\apand\\Anaconda3\\lib\\site-packages\\subsbml-0.1-py3.7.egg\\subsbml\\utilityFunctions.py:17: UserWarning: Package not installed : bioscrape, simulation options with bioscrape will not work.\n"
     ]
    }
   ],
   "source": [
    "from subsbml import *"
   ]
  },
  {
   "cell_type": "code",
   "execution_count": 3,
   "metadata": {},
   "outputs": [
    {
     "name": "stdout",
     "output_type": "stream",
     "text": [
      "The subsystem from models/aTc_membrane.xml has multiple compartments\n"
     ]
    }
   ],
   "source": [
    "cell1 = System('cell1') # The vesicle with lysis protein\n",
    "\n",
    "external_aTc = createSubsystem('models/aTc_reservoir.xml')\n",
    "membrane1 = createSubsystem('models/aTc_membrane.xml')\n",
    "\n",
    "ss1 = cell1.createSubsystem('models/lysis_ss.xml') # Creates ss1 in internal of cell 1 (model taken from MATLAB TX-TLsim)\n",
    "\n",
    "# Ignore the following two lines \n",
    "# (this is just a hardcoded fix for the model - we are using GFP expression model and renaming the protein :)\n",
    "ss1.renameSName('protein_GFP','protein_X174')\n",
    "ss1.renameSId('protein_GFP', 'protein_X174')\n",
    "\n",
    "\n",
    "cell1.setExternal(external_aTc) # adds aTc external system to external of cell 1\n",
    "cell1.setMembrane(membrane1) # specifies membrane model of cell 1\n",
    "\n",
    "# Simulate cell 1\n",
    "cell1_model, _ = cell1.getModel()\n",
    "timepoints = np.linspace(0,100,100)\n",
    "# results_c1, _ = Subsystem(cell1_model).simulateBioscrape(0, timepoints)"
   ]
  },
  {
   "cell_type": "code",
   "execution_count": 4,
   "metadata": {},
   "outputs": [
    {
     "name": "stderr",
     "output_type": "stream",
     "text": [
      "C:\\Users\\apand\\Anaconda3\\lib\\site-packages\\subsbml-0.1-py3.7.egg\\subsbml\\Subsystem.py:1215: UserWarning: Compartment with id external does not have name attribute set. To avoid duplicates, use name argument.\n",
      "  warnings.warn('Compartment with id {0} does not have name attribute set. To avoid duplicates, use name argument.'.format(compartment.getId()))\n",
      "C:\\Users\\apand\\Anaconda3\\lib\\site-packages\\subsbml-0.1-py3.7.egg\\subsbml\\Subsystem.py:1248: UserWarning: Compartment with identifier external does not have a name argument. To avoid duplication, use name argument\n",
      "  warnings.warn('Compartment with identifier {0} does not have a name argument. To avoid duplication, use name argument'.format(compartment.getId()))\n"
     ]
    },
    {
     "data": {
      "text/plain": [
       "<SBMLDocument>"
      ]
     },
     "execution_count": 4,
     "metadata": {},
     "output_type": "execute_result"
    }
   ],
   "source": [
    "# Stop simulation of cell1 and begin simulating final_model. \n",
    "ss1.setCompartments('external')\n",
    "new_external = createNewSubsystem()\n",
    "new_external.combineSubsystems([ss1, external_aTc])"
   ]
  },
  {
   "cell_type": "code",
   "execution_count": 5,
   "metadata": {},
   "outputs": [
    {
     "ename": "FileNotFoundError",
     "evalue": "File not found: models\\gate1.xml ",
     "output_type": "error",
     "traceback": [
      "\u001b[1;31m---------------------------------------------------------------------------\u001b[0m",
      "\u001b[1;31mFileNotFoundError\u001b[0m                         Traceback (most recent call last)",
      "\u001b[1;32m<ipython-input-5-e02dd2626b5a>\u001b[0m in \u001b[0;36m<module>\u001b[1;34m\u001b[0m\n\u001b[0;32m      2\u001b[0m \u001b[0mcell3\u001b[0m \u001b[1;33m=\u001b[0m \u001b[0mSystem\u001b[0m\u001b[1;33m(\u001b[0m\u001b[1;34m'cell3'\u001b[0m\u001b[1;33m)\u001b[0m \u001b[1;31m# The vesicle with the other half of the logic gate\u001b[0m\u001b[1;33m\u001b[0m\u001b[1;33m\u001b[0m\u001b[0m\n\u001b[0;32m      3\u001b[0m \u001b[1;33m\u001b[0m\u001b[0m\n\u001b[1;32m----> 4\u001b[1;33m \u001b[0mss2\u001b[0m \u001b[1;33m=\u001b[0m \u001b[0mcell2\u001b[0m\u001b[1;33m.\u001b[0m\u001b[0mcreateSubsystem\u001b[0m\u001b[1;33m(\u001b[0m\u001b[1;34m'models/gate1.xml'\u001b[0m\u001b[1;33m)\u001b[0m \u001b[1;31m# Creates gate1 subsystem inside cell2\u001b[0m\u001b[1;33m\u001b[0m\u001b[1;33m\u001b[0m\u001b[0m\n\u001b[0m\u001b[0;32m      5\u001b[0m \u001b[0mss3\u001b[0m \u001b[1;33m=\u001b[0m \u001b[0mcell3\u001b[0m\u001b[1;33m.\u001b[0m\u001b[0mcreateSubsystem\u001b[0m\u001b[1;33m(\u001b[0m\u001b[1;34m'models/gate2.xml'\u001b[0m\u001b[1;33m)\u001b[0m \u001b[1;31m# Creates gate2 subsystem inside cell3\u001b[0m\u001b[1;33m\u001b[0m\u001b[1;33m\u001b[0m\u001b[0m\n\u001b[0;32m      6\u001b[0m \u001b[1;33m\u001b[0m\u001b[0m\n",
      "\u001b[1;32m~\\Anaconda3\\lib\\site-packages\\subsbml-0.1-py3.7.egg\\subsbml\\System.py\u001b[0m in \u001b[0;36mcreateSubsystem\u001b[1;34m(self, filename, subsystemName)\u001b[0m\n\u001b[0;32m    217\u001b[0m         \u001b[0msubsys_xml\u001b[0m \u001b[1;33m=\u001b[0m \u001b[0mPath\u001b[0m\u001b[1;33m(\u001b[0m\u001b[0mfilename\u001b[0m\u001b[1;33m)\u001b[0m\u001b[1;33m\u001b[0m\u001b[1;33m\u001b[0m\u001b[0m\n\u001b[0;32m    218\u001b[0m         \u001b[1;32mif\u001b[0m \u001b[0msubsys_xml\u001b[0m\u001b[1;33m.\u001b[0m\u001b[0mis_file\u001b[0m\u001b[1;33m(\u001b[0m\u001b[1;33m)\u001b[0m \u001b[1;32mis\u001b[0m \u001b[1;32mFalse\u001b[0m\u001b[1;33m:\u001b[0m\u001b[1;33m\u001b[0m\u001b[1;33m\u001b[0m\u001b[0m\n\u001b[1;32m--> 219\u001b[1;33m             \u001b[1;32mraise\u001b[0m \u001b[0mFileNotFoundError\u001b[0m\u001b[1;33m(\u001b[0m\u001b[1;34m'File not found: %s '\u001b[0m \u001b[1;33m%\u001b[0m \u001b[0msubsys_xml\u001b[0m\u001b[1;33m)\u001b[0m\u001b[1;33m\u001b[0m\u001b[1;33m\u001b[0m\u001b[0m\n\u001b[0m\u001b[0;32m    220\u001b[0m         \u001b[1;31m# 1. Read the SBML model\u001b[0m\u001b[1;33m\u001b[0m\u001b[1;33m\u001b[0m\u001b[1;33m\u001b[0m\u001b[0m\n\u001b[0;32m    221\u001b[0m         \u001b[1;31m# 2. Create an object of the Subsystem class with the SBMLDocument read in Step 1\u001b[0m\u001b[1;33m\u001b[0m\u001b[1;33m\u001b[0m\u001b[1;33m\u001b[0m\u001b[0m\n",
      "\u001b[1;31mFileNotFoundError\u001b[0m: File not found: models\\gate1.xml "
     ]
    }
   ],
   "source": [
    "cell2 = System('cell2') # The vesicle with one half of the logic gate\n",
    "cell3 = System('cell3') # The vesicle with the other half of the logic gate\n",
    "\n",
    "ss2 = cell2.createSubsystem('models/gate1.xml') # Creates gate1 subsystem inside cell2\n",
    "ss3 = cell3.createSubsystem('models/gate2.xml') # Creates gate2 subsystem inside cell3\n",
    "\n",
    "membrane2 = createSubsystem('models/membrane2.xml')\n",
    "membrane3 = createSubsystem('models/membrane3.xml')\n",
    "\n",
    "cell2.setExternal(new_external)\n",
    "cell3.setExternal(new_external)\n",
    "\n",
    "cell2.setMembrane(membrane2)\n",
    "cell3.setMembrane(membrane3)\n",
    "\n",
    "final_model = combineSystems([cell2, cell3])\n",
    "libsbml.writeSBML(final_model, 'models/final_model.xml')\n",
    "\n",
    "# Simulate the final_model\n",
    "simulate_rr(final_model, timepoints)"
   ]
  },
  {
   "cell_type": "code",
   "execution_count": null,
   "metadata": {},
   "outputs": [],
   "source": []
  }
 ],
 "metadata": {
  "kernelspec": {
   "display_name": "Python 3",
   "language": "python",
   "name": "python3"
  },
  "language_info": {
   "codemirror_mode": {
    "name": "ipython",
    "version": 3
   },
   "file_extension": ".py",
   "mimetype": "text/x-python",
   "name": "python",
   "nbconvert_exporter": "python",
   "pygments_lexer": "ipython3",
   "version": "3.7.4"
  }
 },
 "nbformat": 4,
 "nbformat_minor": 2
}
